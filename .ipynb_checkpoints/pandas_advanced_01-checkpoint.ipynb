{
 "cells": [
  {
   "cell_type": "markdown",
   "id": "1025ec8e-0b5d-407a-a328-99ce211c3fc4",
   "metadata": {},
   "source": [
    "## PANDAS ADVANCED - 01"
   ]
  },
  {
   "cell_type": "code",
   "execution_count": 3,
   "id": "d5eadbf2-92bd-44a9-b7ba-3bbba48e9858",
   "metadata": {},
   "outputs": [],
   "source": [
    "import numpy as np\n",
    "import pandas as pd"
   ]
  },
  {
   "cell_type": "code",
   "execution_count": 4,
   "id": "e5440e12-740c-4db5-ab39-5cf4c1d3b9dc",
   "metadata": {},
   "outputs": [
    {
     "name": "stdout",
     "output_type": "stream",
     "text": [
      "0     1.0\n",
      "1     4.0\n",
      "2     7.0\n",
      "3     NaN\n",
      "4    11.0\n",
      "5     NaN\n",
      "dtype: float64\n"
     ]
    }
   ],
   "source": [
    "# create a series and enter inside a values list, \n",
    "# to pandas create a index general\n",
    "\n",
    "V1 = pd.Series([1,4,7, np.nan, 11, np.nan])\n",
    "\n",
    "print (V1)"
   ]
  },
  {
   "cell_type": "code",
   "execution_count": 6,
   "id": "0956614c-9098-413c-8160-95d0017b300d",
   "metadata": {},
   "outputs": [
    {
     "name": "stdout",
     "output_type": "stream",
     "text": [
      "DatetimeIndex(['2023-01-01', '2023-01-02', '2023-01-03', '2023-01-04',\n",
      "               '2023-01-05'],\n",
      "              dtype='datetime64[ns]', freq='D')\n"
     ]
    }
   ],
   "source": [
    "# create a DataFrame passing a matriz Numpy, with a index of data and time \n",
    "# using date_range() labeled columns\n",
    "\n",
    "Vdt01 = pd.date_range(\"20230101\", periods = 5)\n",
    "print (Vdt01)\n",
    "\n",
    "\n"
   ]
  },
  {
   "cell_type": "markdown",
   "id": "37d0e6a2-ac47-4bcd-a671-02425c2ce598",
   "metadata": {},
   "source": [
    "#### **pandas.date_range()**\n",
    "\n",
    "* retorna uma matriz de intervalo de datas, onde a diferença é especificada entre a frequência fornecida\n",
    "* parametros: start / end / periods / freq / tz / normalizer / nome"
   ]
  },
  {
   "cell_type": "code",
   "execution_count": 11,
   "id": "94ab3cac-1ee9-4845-b66b-e9f406cf3475",
   "metadata": {},
   "outputs": [
    {
     "name": "stdout",
     "output_type": "stream",
     "text": [
      "0    2023-01-01\n",
      "1    2023-01-02\n",
      "2    2023-01-03\n",
      "3    2023-01-04\n",
      "4    2023-01-05\n",
      "5    2023-01-06\n",
      "6    2023-01-07\n",
      "7    2023-01-08\n",
      "8    2023-01-09\n",
      "9    2023-01-10\n",
      "10   2023-01-11\n",
      "11   2023-01-12\n",
      "12   2023-01-13\n",
      "13   2023-01-14\n",
      "14   2023-01-15\n",
      "15   2023-01-16\n",
      "16   2023-01-17\n",
      "17   2023-01-18\n",
      "18   2023-01-19\n",
      "19   2023-01-20\n",
      "20   2023-01-21\n",
      "21   2023-01-22\n",
      "22   2023-01-23\n",
      "23   2023-01-24\n",
      "24   2023-01-25\n",
      "25   2023-01-26\n",
      "26   2023-01-27\n",
      "27   2023-01-28\n",
      "28   2023-01-29\n",
      "29   2023-01-30\n",
      "30   2023-01-31\n",
      "31   2023-02-01\n",
      "dtype: datetime64[ns]\n"
     ]
    }
   ],
   "source": [
    "# create a list with 'pd.date_range()' starting in \"20230101\", \n",
    "# and finishing on \"20230201\".\n",
    "teste = pd.Series(pd.date_range(start = \"20230101\", end = \"20230201\"))\n",
    "print (teste)"
   ]
  },
  {
   "cell_type": "code",
   "execution_count": null,
   "id": "ca56923f-8dac-4f24-8cf7-15f728bfb74a",
   "metadata": {},
   "outputs": [],
   "source": []
  }
 ],
 "metadata": {
  "kernelspec": {
   "display_name": "Python 3 (ipykernel)",
   "language": "python",
   "name": "python3"
  },
  "language_info": {
   "codemirror_mode": {
    "name": "ipython",
    "version": 3
   },
   "file_extension": ".py",
   "mimetype": "text/x-python",
   "name": "python",
   "nbconvert_exporter": "python",
   "pygments_lexer": "ipython3",
   "version": "3.10.9"
  }
 },
 "nbformat": 4,
 "nbformat_minor": 5
}
