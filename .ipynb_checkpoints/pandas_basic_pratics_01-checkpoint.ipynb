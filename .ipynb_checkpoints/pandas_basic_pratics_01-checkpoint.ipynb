{
 "cells": [
  {
   "cell_type": "markdown",
   "id": "1025ec8e-0b5d-407a-a328-99ce211c3fc4",
   "metadata": {},
   "source": [
    "## PANDAS BASIC - 01"
   ]
  },
  {
   "cell_type": "code",
   "execution_count": 2,
   "id": "d5eadbf2-92bd-44a9-b7ba-3bbba48e9858",
   "metadata": {},
   "outputs": [],
   "source": [
    "import numpy as np\n",
    "import pandas as pd"
   ]
  },
  {
   "cell_type": "code",
   "execution_count": 76,
   "id": "e5440e12-740c-4db5-ab39-5cf4c1d3b9dc",
   "metadata": {},
   "outputs": [
    {
     "data": {
      "text/plain": [
       "0    1\n",
       "1    2\n",
       "2    3\n",
       "3    4\n",
       "4    5\n",
       "5    5\n",
       "6    6\n",
       "7    7\n",
       "8    8\n",
       "dtype: int64"
      ]
     },
     "execution_count": 76,
     "metadata": {},
     "output_type": "execute_result"
    }
   ],
   "source": [
    "# create a series and enter inside a values list, \n",
    "# to pandas create a index general\n",
    "V1 = pd.Series([1,4,7, np.nan, 11, np.nan])\n",
    "print (V1)"
   ]
  },
  {
   "cell_type": "code",
   "execution_count": 94,
   "id": "6502f3cc-4129-4f0b-986c-1307d79b35b2",
   "metadata": {},
   "outputs": [
    {
     "data": {
      "text/html": [
       "<div>\n",
       "<style scoped>\n",
       "    .dataframe tbody tr th:only-of-type {\n",
       "        vertical-align: middle;\n",
       "    }\n",
       "\n",
       "    .dataframe tbody tr th {\n",
       "        vertical-align: top;\n",
       "    }\n",
       "\n",
       "    .dataframe thead th {\n",
       "        text-align: right;\n",
       "    }\n",
       "</style>\n",
       "<table border=\"1\" class=\"dataframe\">\n",
       "  <thead>\n",
       "    <tr style=\"text-align: right;\">\n",
       "      <th></th>\n",
       "      <th>0</th>\n",
       "    </tr>\n",
       "  </thead>\n",
       "  <tbody>\n",
       "    <tr>\n",
       "      <th>0</th>\n",
       "      <td>1</td>\n",
       "    </tr>\n",
       "    <tr>\n",
       "      <th>1</th>\n",
       "      <td>2</td>\n",
       "    </tr>\n",
       "    <tr>\n",
       "      <th>2</th>\n",
       "      <td>3</td>\n",
       "    </tr>\n",
       "    <tr>\n",
       "      <th>3</th>\n",
       "      <td>4</td>\n",
       "    </tr>\n",
       "    <tr>\n",
       "      <th>4</th>\n",
       "      <td>5</td>\n",
       "    </tr>\n",
       "  </tbody>\n",
       "</table>\n",
       "</div>"
      ],
      "text/plain": [
       "   0\n",
       "0  1\n",
       "1  2\n",
       "2  3\n",
       "3  4\n",
       "4  5"
      ]
     },
     "execution_count": 94,
     "metadata": {},
     "output_type": "execute_result"
    }
   ],
   "source": [
    "DatFram = pd.DataFrame(\n",
    "    {\n",
    "        1,2,3,4,5\n",
    "    }\n",
    "                      \n",
    ")\n",
    "\n",
    "DatFram"
   ]
  },
  {
   "cell_type": "code",
   "execution_count": 87,
   "id": "0956614c-9098-413c-8160-95d0017b300d",
   "metadata": {},
   "outputs": [
    {
     "name": "stdout",
     "output_type": "stream",
     "text": [
      "            0\n",
      "0  2023-02-01\n",
      "1  2023-02-02\n",
      "2  2023-02-03\n",
      "3  2023-02-06\n",
      "4  2023-02-07\n",
      "5  2023-02-08\n",
      "6  2023-02-09\n",
      "7  2023-02-10\n",
      "8  2023-02-13\n",
      "9  2023-02-14\n",
      "10 2023-02-15\n",
      "11 2023-02-16\n",
      "12 2023-02-17\n",
      "13 2023-02-20\n",
      "14 2023-02-21\n",
      "15 2023-02-22\n",
      "16 2023-02-23\n",
      "17 2023-02-24\n",
      "18 2023-02-27\n",
      "19 2023-02-28\n",
      "20 2023-03-01\n"
     ]
    }
   ],
   "source": [
    "# create a DataFrame passing a matriz Numpy, with a index of data and time \n",
    "# using date_range() labeled columns\n",
    "Vdt01 = pd.date_range(\"20230101\", periods = 5)\n",
    "#print (Vdt01)\n",
    "\n",
    "# create a list with 'pd.date_range()' starting in \"20230101\", \n",
    "# and finishing on \"20230201\".\n",
    "VarSerDat01 = pd.Series(pd.date_range(start = \"20230101\", end = \"20230201\", name=\"Datas Demonstrativas\"))\n",
    "#print (VarSerDat01)\n",
    "\n",
    "#Ddata01 = pd.date_range(\"20230101\", periods = 10)\n",
    "VarSerDat = pd.date_range(start = \"20230201\", periods = 7)\n",
    "VarSerDat02 = pd.DataFrame(np.random.randn(7,4), index=VarSerDat , columns=list(\"ABCD\"))\n",
    "\n",
    "#print(VarSerDat02)\n",
    "\n",
    "# another example\n",
    "VarSerDat001 = pd.DataFrame(pd.date_range(start = \"20230101\", end = \"20230201\", freq= \"B\"))\n",
    "VarSerDat002 = pd.DataFrame(pd.date_range(start = \"20230201\", end = \"20230301\", freq= \"B\"))\n",
    "\n",
    "#print (VarSerDat001)\n",
    "print (VarSerDat002)\n"
   ]
  },
  {
   "cell_type": "markdown",
   "id": "37d0e6a2-ac47-4bcd-a671-02425c2ce598",
   "metadata": {
    "tags": []
   },
   "source": [
    "#### **pandas.date_range()**\n",
    "\n",
    "* retorna uma matriz de intervalo de datas, onde a diferença é especificada entre a frequência fornecida\n",
    "* parametros: \n",
    "    * start: data inicio\n",
    "    * end: data final\n",
    "    * periods: quantidade de períodos a serem retornados\n",
    "    * freq: parâmetros para retornar com que frequencia virão os valores\n",
    "    * tz: nome do fuzo horário\n",
    "    * normalizer(True or False): normalizar as datas á meia noite\n",
    "    * nome: nome do datetimeindex\n",
    "    * inclusive\n",
    "    * *\n",
    "    * Unit\n",
    "    * rwargs"
   ]
  },
  {
   "cell_type": "markdown",
   "id": "3aadb56b-55e6-44d2-80c9-a4e4fe426290",
   "metadata": {
    "jupyter": {
     "source_hidden": true
    },
    "tags": []
   },
   "source": [
    "\n",
    "\n",
    "https://pandas.pydata.org/pandas-docs/stable/user_guide/timeseries.html#timeseries-offset-aliases\n",
    "\n",
    "Pseudônimo\n",
    "\n",
    "Descrição\n",
    "\n",
    "B frequência de dias úteis\n",
    "\n",
    "C frequência personalizada do dia útil\n",
    "\n",
    "D frequência do dia do calendário\n",
    "\n",
    "C frequência semanal\n",
    "\n",
    "M frequência de final de mês\n",
    "\n",
    "SM frequência de final de semestre (dia 15 e final do mês)\n",
    "\n",
    "BM frequência de fim de mês útil\n",
    "\n",
    "CBM frequência de fim de mês comercial personalizada\n",
    "\n",
    "EM frequência de início do mês\n",
    "\n",
    "SMS frequência de início semestral (dias 1 e 15)\n",
    "\n",
    "BMS frequência de início do mês útil\n",
    "\n",
    "CBMS frequência de início do mês comercial personalizada\n",
    "\n",
    "Q frequência de fim de trimestre\n",
    "\n",
    "BQ frequência de fim de trimestre de negócios\n",
    "\n",
    "QS frequência de início do trimestre\n",
    "\n",
    "BQS frequência de início do trimestre comercial\n",
    "\n",
    "A, Y frequência de fim de ano\n",
    "\n",
    "BA, BY frequência de fim de ano comercial\n",
    "\n",
    "AS, SIM frequência de início de ano\n",
    "\n",
    "BAS, BYS frequência de início do ano comercial\n",
    "\n",
    "BH frequência do horário comercial\n",
    "\n",
    "H frequência horária\n",
    "\n",
    "T, mín. frequência minuciosa\n",
    "\n",
    "S segunda frequência\n",
    "\n",
    "L, senhora milissegundos\n",
    "\n",
    "U, us microssegundos\n",
    "\n",
    "N nanossegundos"
   ]
  },
  {
   "cell_type": "code",
   "execution_count": 105,
   "id": "c5389003-3147-4809-803d-f77ffa66baab",
   "metadata": {},
   "outputs": [
    {
     "data": {
      "text/plain": [
       "<bound method NDFrame._add_numeric_operations.<locals>.any of      A          B    C  D      E    F\n",
       "0  2.4 2023-01-01  1.0  3  teste  foo\n",
       "1  2.4 2023-01-01  1.0  3  train  foo\n",
       "2  2.4 2023-01-01  1.0  3  teste  foo\n",
       "3  2.4 2023-01-01  1.0  3  train  foo>"
      ]
     },
     "execution_count": 105,
     "metadata": {},
     "output_type": "execute_result"
    }
   ],
   "source": [
    "# Create a DataFrame passing a dictonarie of objects that can be converting in a \n",
    "# structure similar a Series\n",
    "DatFram01 = pd.DataFrame (\n",
    "    {\n",
    "        \"A\": 2.4,\n",
    "        \"B\": pd.Timestamp(\"20230101\"),\n",
    "        \"C\": pd.Series(1, index=list(range(4)), dtype=\"float32\"),\n",
    "        \"D\": np.array([3] * 4, dtype=\"int32\"),\n",
    "        \"E\": pd.Categorical([\"teste\",\"train\",\"teste\",\"train\"]),\n",
    "        \"F\": \"foo\",\n",
    "    }\n",
    "    \n",
    ")\n",
    "DatFram01.columns\n",
    "\n",
    "# look type of columns\n",
    "DatFram01.dtypes\n",
    "\n",
    "# tab completion for column names\n",
    "\"\"\"\n",
    "df2.A                  df2.bool\n",
    "df2.abs                df2.boxplot\n",
    "df2.add                df2.C\n",
    "df2.add_prefix         df2.clip\n",
    "df2.add_suffix         df2.columns\n",
    "df2.align              df2.copy\n",
    "df2.all                df2.count\n",
    "df2.any                df2.combine\n",
    "df2.append             df2.D\n",
    "df2.apply              df2.describe\n",
    "df2.applymap           df2.diff\n",
    "df2.B                  df2.duplicated\n",
    "\"\"\"\n",
    "DatFram01.any"
   ]
  },
  {
   "cell_type": "markdown",
   "id": "6b69c53d-04c4-45e9-909d-a7cc41ad927a",
   "metadata": {},
   "source": [
    "## VISUALIZANDO DADOS"
   ]
  },
  {
   "cell_type": "code",
   "execution_count": null,
   "id": "2a631652-1d7a-4110-b5de-b2bb556ac380",
   "metadata": {},
   "outputs": [],
   "source": []
  }
 ],
 "metadata": {
  "kernelspec": {
   "display_name": "Python 3 (ipykernel)",
   "language": "python",
   "name": "python3"
  },
  "language_info": {
   "codemirror_mode": {
    "name": "ipython",
    "version": 3
   },
   "file_extension": ".py",
   "mimetype": "text/x-python",
   "name": "python",
   "nbconvert_exporter": "python",
   "pygments_lexer": "ipython3",
   "version": "3.10.9"
  }
 },
 "nbformat": 4,
 "nbformat_minor": 5
}
