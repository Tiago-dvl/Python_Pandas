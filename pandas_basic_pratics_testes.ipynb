{
 "cells": [
  {
   "cell_type": "code",
   "execution_count": 35,
   "id": "d95d782b-4164-4c53-9374-34549bf54618",
   "metadata": {},
   "outputs": [],
   "source": [
    "import pandas as pd\n",
    "import numpy as np"
   ]
  },
  {
   "cell_type": "code",
   "execution_count": 3,
   "id": "c258a3d5-1903-424c-92aa-a8f326474590",
   "metadata": {},
   "outputs": [
    {
     "data": {
      "text/html": [
       "<div>\n",
       "<style scoped>\n",
       "    .dataframe tbody tr th:only-of-type {\n",
       "        vertical-align: middle;\n",
       "    }\n",
       "\n",
       "    .dataframe tbody tr th {\n",
       "        vertical-align: top;\n",
       "    }\n",
       "\n",
       "    .dataframe thead th {\n",
       "        text-align: right;\n",
       "    }\n",
       "</style>\n",
       "<table border=\"1\" class=\"dataframe\">\n",
       "  <thead>\n",
       "    <tr style=\"text-align: right;\">\n",
       "      <th></th>\n",
       "      <th>0</th>\n",
       "    </tr>\n",
       "  </thead>\n",
       "  <tbody>\n",
       "    <tr>\n",
       "      <th>0</th>\n",
       "      <td>1</td>\n",
       "    </tr>\n",
       "    <tr>\n",
       "      <th>1</th>\n",
       "      <td>2</td>\n",
       "    </tr>\n",
       "    <tr>\n",
       "      <th>2</th>\n",
       "      <td>3</td>\n",
       "    </tr>\n",
       "    <tr>\n",
       "      <th>3</th>\n",
       "      <td>4</td>\n",
       "    </tr>\n",
       "    <tr>\n",
       "      <th>4</th>\n",
       "      <td>5</td>\n",
       "    </tr>\n",
       "  </tbody>\n",
       "</table>\n",
       "</div>"
      ],
      "text/plain": [
       "   0\n",
       "0  1\n",
       "1  2\n",
       "2  3\n",
       "3  4\n",
       "4  5"
      ]
     },
     "execution_count": 3,
     "metadata": {},
     "output_type": "execute_result"
    }
   ],
   "source": [
    "DatFram = pd.DataFrame(\n",
    "    {\n",
    "        1,2,3,4,5\n",
    "    }\n",
    "                      \n",
    ")\n",
    "\n",
    "DatFram"
   ]
  },
  {
   "cell_type": "code",
   "execution_count": 5,
   "id": "be6f3441-18dc-4240-a7d0-aaf0712398a0",
   "metadata": {},
   "outputs": [
    {
     "name": "stdout",
     "output_type": "stream",
     "text": [
      "DatetimeIndex(['2023-01-01', '2023-01-02', '2023-01-03', '2023-01-04',\n",
      "               '2023-01-05'],\n",
      "              dtype='datetime64[ns]', freq='D')\n"
     ]
    }
   ],
   "source": [
    "Vdt01 = pd.date_range(\"20230101\", periods = 5)\n",
    "print (Vdt01)"
   ]
  },
  {
   "cell_type": "code",
   "execution_count": 6,
   "id": "5bebc314-ba47-4795-bd4b-548838df889a",
   "metadata": {},
   "outputs": [],
   "source": [
    "# create a list with 'pd.date_range()' starting in \"20230101\", \n",
    "# and finishing on \"20230201\".\n",
    "VarSerDat01 = pd.Series(pd.date_range(start = \"20230101\", end = \"20230201\", name=\"Datas Demonstrativas\"))\n",
    "#print (VarSerDat01)\n"
   ]
  },
  {
   "cell_type": "code",
   "execution_count": 7,
   "id": "846327ce-e9a5-417a-8981-9709ca0ba4ed",
   "metadata": {},
   "outputs": [
    {
     "name": "stdout",
     "output_type": "stream",
     "text": [
      "            0\n",
      "0  2023-02-01\n",
      "1  2023-02-02\n",
      "2  2023-02-03\n",
      "3  2023-02-06\n",
      "4  2023-02-07\n",
      "5  2023-02-08\n",
      "6  2023-02-09\n",
      "7  2023-02-10\n",
      "8  2023-02-13\n",
      "9  2023-02-14\n",
      "10 2023-02-15\n",
      "11 2023-02-16\n",
      "12 2023-02-17\n",
      "13 2023-02-20\n",
      "14 2023-02-21\n",
      "15 2023-02-22\n",
      "16 2023-02-23\n",
      "17 2023-02-24\n",
      "18 2023-02-27\n",
      "19 2023-02-28\n",
      "20 2023-03-01\n"
     ]
    }
   ],
   "source": [
    "\n",
    "#Ddata01 = pd.date_range(\"20230101\", periods = 10)\n",
    "VarSerDat = pd.date_range(start = \"20230201\", periods = 7)\n",
    "\n",
    "\n",
    "#print(VarSerDat02)\n",
    "\n",
    "# another example\n",
    "VarSerDat001 = pd.DataFrame(pd.date_range(start = \"20230101\", end = \"20230201\", freq= \"B\"))\n",
    "VarSerDat002 = pd.DataFrame(pd.date_range(start = \"20230201\", end = \"20230301\", freq= \"B\"))\n",
    "\n",
    "#print (VarSerDat001)\n",
    "print (VarSerDat002)\n"
   ]
  },
  {
   "cell_type": "markdown",
   "id": "1d65fd7c-baa5-42a3-b92c-0a2b33f5a793",
   "metadata": {},
   "source": [
    "\n",
    "\n",
    "https://pandas.pydata.org/pandas-docs/stable/user_guide/timeseries.html#timeseries-offset-aliases\n",
    "\n",
    "Pseudônimo\n",
    "\n",
    "Descrição\n",
    "\n",
    "B frequência de dias úteis\n",
    "\n",
    "C frequência personalizada do dia útil\n",
    "\n",
    "D frequência do dia do calendário\n",
    "\n",
    "C frequência semanal\n",
    "\n",
    "M frequência de final de mês\n",
    "\n",
    "SM frequência de final de semestre (dia 15 e final do mês)\n",
    "\n",
    "BM frequência de fim de mês útil\n",
    "\n",
    "CBM frequência de fim de mês comercial personalizada\n",
    "\n",
    "EM frequência de início do mês\n",
    "\n",
    "SMS frequência de início semestral (dias 1 e 15)\n",
    "\n",
    "BMS frequência de início do mês útil\n",
    "\n",
    "CBMS frequência de início do mês comercial personalizada\n",
    "\n",
    "Q frequência de fim de trimestre\n",
    "\n",
    "BQ frequência de fim de trimestre de negócios\n",
    "\n",
    "QS frequência de início do trimestre\n",
    "\n",
    "BQS frequência de início do trimestre comercial\n",
    "\n",
    "A, Y frequência de fim de ano\n",
    "\n",
    "BA, BY frequência de fim de ano comercial\n",
    "\n",
    "AS, SIM frequência de início de ano\n",
    "\n",
    "BAS, BYS frequência de início do ano comercial\n",
    "\n",
    "BH frequência do horário comercial\n",
    "\n",
    "H frequência horária\n",
    "\n",
    "T, mín. frequência minuciosa\n",
    "\n",
    "S segunda frequência\n",
    "\n",
    "L, senhora milissegundos\n",
    "\n",
    "U, us microssegundos\n",
    "\n",
    "N nanossegundos"
   ]
  },
  {
   "cell_type": "code",
   "execution_count": 8,
   "id": "02ac62d4-6304-4cc0-996b-b9f5c289bdbb",
   "metadata": {},
   "outputs": [
    {
     "data": {
      "text/html": [
       "<div>\n",
       "<style scoped>\n",
       "    .dataframe tbody tr th:only-of-type {\n",
       "        vertical-align: middle;\n",
       "    }\n",
       "\n",
       "    .dataframe tbody tr th {\n",
       "        vertical-align: top;\n",
       "    }\n",
       "\n",
       "    .dataframe thead th {\n",
       "        text-align: right;\n",
       "    }\n",
       "</style>\n",
       "<table border=\"1\" class=\"dataframe\">\n",
       "  <thead>\n",
       "    <tr style=\"text-align: right;\">\n",
       "      <th></th>\n",
       "      <th>A</th>\n",
       "      <th>B</th>\n",
       "    </tr>\n",
       "  </thead>\n",
       "  <tbody>\n",
       "    <tr>\n",
       "      <th>0</th>\n",
       "      <td>1</td>\n",
       "      <td>3</td>\n",
       "    </tr>\n",
       "    <tr>\n",
       "      <th>1</th>\n",
       "      <td>2</td>\n",
       "      <td>4</td>\n",
       "    </tr>\n",
       "  </tbody>\n",
       "</table>\n",
       "</div>"
      ],
      "text/plain": [
       "   A  B\n",
       "0  1  3\n",
       "1  2  4"
      ]
     },
     "execution_count": 8,
     "metadata": {},
     "output_type": "execute_result"
    }
   ],
   "source": [
    "varr = pd.DataFrame({\"A\": [1, 2], \"B\": [3, 4]})\n",
    "varr"
   ]
  },
  {
   "cell_type": "code",
   "execution_count": 52,
   "id": "f4c14282-8a47-43d6-8367-b61e4ccda8b9",
   "metadata": {},
   "outputs": [
    {
     "data": {
      "text/plain": [
       "array([[[ 3.39162091e-01,  7.21374812e-02,  1.47426605e+00,\n",
       "         -5.25933426e-01],\n",
       "        [-6.43973131e-01,  1.59258181e+00, -9.89148233e-01,\n",
       "         -6.46052728e-01],\n",
       "        [-3.60735484e-01, -1.28507163e+00,  3.31785853e-04,\n",
       "          8.39119012e-01],\n",
       "        ...,\n",
       "        [-1.26986709e+00,  8.08754660e-01,  1.32634479e+00,\n",
       "         -4.18168643e-01],\n",
       "        [ 1.59706296e+00, -2.09125093e-01, -5.52405437e-01,\n",
       "         -3.57387775e-01],\n",
       "        [-5.15154285e-01,  3.88517578e-01,  5.41863737e-01,\n",
       "         -1.38251775e+00]],\n",
       "\n",
       "       [[-3.59975622e-01,  8.26160464e-01,  6.13892782e-01,\n",
       "         -2.03571698e-01],\n",
       "        [ 3.78556211e-01,  4.62032282e-01, -2.10979330e-01,\n",
       "         -7.36947234e-01],\n",
       "        [ 3.92577577e-01,  7.86736756e-01,  9.37803628e-01,\n",
       "          5.73654071e-02],\n",
       "        ...,\n",
       "        [-9.39447389e-01, -2.07196359e-03, -6.76228117e-01,\n",
       "         -7.47702304e-01],\n",
       "        [ 1.24255684e+00,  5.95195844e-01,  1.50590579e-01,\n",
       "         -1.95610990e-01],\n",
       "        [-4.00128152e-01,  4.63669161e-01,  2.01077970e-01,\n",
       "         -1.07674151e-01]],\n",
       "\n",
       "       [[-3.04927506e-01,  8.01610756e-01,  1.24973499e+00,\n",
       "         -1.83410782e-01],\n",
       "        [-2.41876190e-01, -8.51027505e-01,  1.32835420e+00,\n",
       "         -6.71654926e-01],\n",
       "        [-3.06716476e-01, -9.57800386e-01,  6.46044517e-01,\n",
       "          1.50767494e-01],\n",
       "        ...,\n",
       "        [-9.47928878e-01,  1.63065301e+00, -1.72539684e+00,\n",
       "         -6.51042146e-02],\n",
       "        [-1.23946555e+00,  1.21906287e-01, -1.97361448e+00,\n",
       "         -1.48199812e+00],\n",
       "        [-1.77366254e-01, -1.46884317e+00, -2.10662966e+00,\n",
       "          1.47647616e+00]],\n",
       "\n",
       "       ...,\n",
       "\n",
       "       [[ 8.89456716e-01,  1.82900654e-01,  2.61177014e+00,\n",
       "         -1.33990830e+00],\n",
       "        [-2.63926804e+00,  1.50642642e+00,  7.06747455e-01,\n",
       "          4.12006016e-01],\n",
       "        [ 1.73224363e-01,  8.09545855e-01, -1.78882913e-01,\n",
       "          3.37897223e-01],\n",
       "        ...,\n",
       "        [-2.93576579e-01,  8.72400697e-01,  3.59389466e-01,\n",
       "          5.89379885e-02],\n",
       "        [ 6.11412682e-01, -4.94523410e-01, -6.18991314e-01,\n",
       "          6.00370005e-01],\n",
       "        [-1.55158685e+00, -1.48403072e+00, -1.17988309e+00,\n",
       "         -1.46493637e+00]],\n",
       "\n",
       "       [[ 7.82153953e-02, -4.22866445e-01, -5.68456085e-01,\n",
       "          3.62777077e-01],\n",
       "        [ 2.20575040e-01,  8.65637771e-01, -3.18871729e-01,\n",
       "          1.66608494e+00],\n",
       "        [-5.98078204e-01, -4.63839681e-01, -3.20889872e-01,\n",
       "          1.84862524e+00],\n",
       "        ...,\n",
       "        [ 2.20862230e+00, -2.11068789e+00, -1.09855763e+00,\n",
       "          1.54460572e+00],\n",
       "        [-6.97929650e-01, -7.25467791e-01, -2.68032172e-01,\n",
       "         -8.50110358e-01],\n",
       "        [ 6.88688401e-01,  1.04029266e-01,  1.23412797e+00,\n",
       "          1.75225682e-02]],\n",
       "\n",
       "       [[ 1.12831893e+00, -1.04058308e+00, -6.93070611e-02,\n",
       "          1.16367538e+00],\n",
       "        [-1.01460741e+00, -5.25271688e-01,  2.16142602e-01,\n",
       "         -7.87321394e-01],\n",
       "        [-9.07732385e-01,  2.89267011e-01, -3.10695859e-01,\n",
       "         -1.61605556e+00],\n",
       "        ...,\n",
       "        [ 3.87280893e-01,  1.51193666e+00,  1.10028048e-01,\n",
       "         -1.25059977e+00],\n",
       "        [ 5.65674114e-01, -1.18178654e+00,  9.00584633e-01,\n",
       "         -7.93644173e-01],\n",
       "        [-2.64678553e-01,  9.69831008e-01,  2.94015060e-01,\n",
       "          7.27875134e-01]]])"
      ]
     },
     "execution_count": 52,
     "metadata": {},
     "output_type": "execute_result"
    }
   ],
   "source": [
    "df = np.random.randn(20,20,4) # (qtde. series ,qtde. numeros, colunas  )\n",
    "df\n"
   ]
  },
  {
   "cell_type": "code",
   "execution_count": 15,
   "id": "4cdefa11-27aa-4998-8f78-25309ff8284e",
   "metadata": {},
   "outputs": [
    {
     "ename": "AttributeError",
     "evalue": "module 'numpy' has no attribute 'randon'",
     "output_type": "error",
     "traceback": [
      "\u001b[1;31m---------------------------------------------------------------------------\u001b[0m",
      "\u001b[1;31mAttributeError\u001b[0m                            Traceback (most recent call last)",
      "Cell \u001b[1;32mIn[15], line 1\u001b[0m\n\u001b[1;32m----> 1\u001b[0m df \u001b[38;5;241m=\u001b[39m \u001b[43mnp\u001b[49m\u001b[38;5;241;43m.\u001b[39;49m\u001b[43mrandon\u001b[49m(\u001b[38;5;28mall\u001b[39m)\n\u001b[0;32m      2\u001b[0m df\n",
      "File \u001b[1;32m~\\anaconda3\\lib\\site-packages\\numpy\\__init__.py:311\u001b[0m, in \u001b[0;36m__getattr__\u001b[1;34m(attr)\u001b[0m\n\u001b[0;32m    308\u001b[0m     \u001b[38;5;28;01mfrom\u001b[39;00m \u001b[38;5;21;01m.\u001b[39;00m\u001b[38;5;21;01mtesting\u001b[39;00m \u001b[38;5;28;01mimport\u001b[39;00m Tester\n\u001b[0;32m    309\u001b[0m     \u001b[38;5;28;01mreturn\u001b[39;00m Tester\n\u001b[1;32m--> 311\u001b[0m \u001b[38;5;28;01mraise\u001b[39;00m \u001b[38;5;167;01mAttributeError\u001b[39;00m(\u001b[38;5;124m\"\u001b[39m\u001b[38;5;124mmodule \u001b[39m\u001b[38;5;132;01m{!r}\u001b[39;00m\u001b[38;5;124m has no attribute \u001b[39m\u001b[38;5;124m\"\u001b[39m\n\u001b[0;32m    312\u001b[0m                      \u001b[38;5;124m\"\u001b[39m\u001b[38;5;132;01m{!r}\u001b[39;00m\u001b[38;5;124m\"\u001b[39m\u001b[38;5;241m.\u001b[39mformat(\u001b[38;5;18m__name__\u001b[39m, attr))\n",
      "\u001b[1;31mAttributeError\u001b[0m: module 'numpy' has no attribute 'randon'"
     ]
    }
   ],
   "source": [
    "df = np.randon(all)\n",
    "df"
   ]
  },
  {
   "cell_type": "code",
   "execution_count": 53,
   "id": "59f531db-20a4-4ec1-b3cf-3f1d0dd194fd",
   "metadata": {},
   "outputs": [
    {
     "data": {
      "text/html": [
       "<div>\n",
       "<style scoped>\n",
       "    .dataframe tbody tr th:only-of-type {\n",
       "        vertical-align: middle;\n",
       "    }\n",
       "\n",
       "    .dataframe tbody tr th {\n",
       "        vertical-align: top;\n",
       "    }\n",
       "\n",
       "    .dataframe thead th {\n",
       "        text-align: right;\n",
       "    }\n",
       "</style>\n",
       "<table border=\"1\" class=\"dataframe\">\n",
       "  <thead>\n",
       "    <tr style=\"text-align: right;\">\n",
       "      <th></th>\n",
       "      <th>a</th>\n",
       "    </tr>\n",
       "  </thead>\n",
       "  <tbody>\n",
       "    <tr>\n",
       "      <th>A</th>\n",
       "      <td>1</td>\n",
       "    </tr>\n",
       "    <tr>\n",
       "      <th>b</th>\n",
       "      <td>2</td>\n",
       "    </tr>\n",
       "    <tr>\n",
       "      <th>C</th>\n",
       "      <td>3</td>\n",
       "    </tr>\n",
       "    <tr>\n",
       "      <th>d</th>\n",
       "      <td>4</td>\n",
       "    </tr>\n",
       "  </tbody>\n",
       "</table>\n",
       "</div>"
      ],
      "text/plain": [
       "   a\n",
       "A  1\n",
       "b  2\n",
       "C  3\n",
       "d  4"
      ]
     },
     "execution_count": 53,
     "metadata": {},
     "output_type": "execute_result"
    }
   ],
   "source": [
    "df = pd.DataFrame({\"a\": [1, 2, 3, 4]}, index=['A', 'b', 'C', 'd'])\n",
    "df.sort_index(key=lambda x: x.str.lower())"
   ]
  },
  {
   "cell_type": "code",
   "execution_count": 54,
   "id": "d0dc69aa-de11-43d9-b967-9adcb817daa2",
   "metadata": {},
   "outputs": [
    {
     "data": {
      "text/html": [
       "<div>\n",
       "<style scoped>\n",
       "    .dataframe tbody tr th:only-of-type {\n",
       "        vertical-align: middle;\n",
       "    }\n",
       "\n",
       "    .dataframe tbody tr th {\n",
       "        vertical-align: top;\n",
       "    }\n",
       "\n",
       "    .dataframe thead th {\n",
       "        text-align: right;\n",
       "    }\n",
       "</style>\n",
       "<table border=\"1\" class=\"dataframe\">\n",
       "  <thead>\n",
       "    <tr style=\"text-align: right;\">\n",
       "      <th></th>\n",
       "      <th>a</th>\n",
       "    </tr>\n",
       "  </thead>\n",
       "  <tbody>\n",
       "    <tr>\n",
       "      <th>d</th>\n",
       "      <td>4</td>\n",
       "    </tr>\n",
       "    <tr>\n",
       "      <th>b</th>\n",
       "      <td>2</td>\n",
       "    </tr>\n",
       "    <tr>\n",
       "      <th>C</th>\n",
       "      <td>3</td>\n",
       "    </tr>\n",
       "    <tr>\n",
       "      <th>A</th>\n",
       "      <td>1</td>\n",
       "    </tr>\n",
       "  </tbody>\n",
       "</table>\n",
       "</div>"
      ],
      "text/plain": [
       "   a\n",
       "d  4\n",
       "b  2\n",
       "C  3\n",
       "A  1"
      ]
     },
     "execution_count": 54,
     "metadata": {},
     "output_type": "execute_result"
    }
   ],
   "source": [
    "df.sort_index(ascending=False)"
   ]
  },
  {
   "cell_type": "code",
   "execution_count": null,
   "id": "394d9c89-2bd6-4b80-9a59-ca2374b8570a",
   "metadata": {},
   "outputs": [],
   "source": []
  }
 ],
 "metadata": {
  "kernelspec": {
   "display_name": "Python 3 (ipykernel)",
   "language": "python",
   "name": "python3"
  },
  "language_info": {
   "codemirror_mode": {
    "name": "ipython",
    "version": 3
   },
   "file_extension": ".py",
   "mimetype": "text/x-python",
   "name": "python",
   "nbconvert_exporter": "python",
   "pygments_lexer": "ipython3",
   "version": "3.10.9"
  }
 },
 "nbformat": 4,
 "nbformat_minor": 5
}
